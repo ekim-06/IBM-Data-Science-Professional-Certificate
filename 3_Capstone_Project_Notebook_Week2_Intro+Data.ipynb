{
 "cells": [
  {
   "cell_type": "markdown",
   "metadata": {},
   "source": [
    "# Car Accident Severity\n",
    "\n",
    "*Capstone Project for IBM Data Science Professional Certificate on Coursera*"
   ]
  },
  {
   "cell_type": "markdown",
   "metadata": {},
   "source": [
    "---"
   ]
  },
  {
   "cell_type": "markdown",
   "metadata": {},
   "source": [
    "## 1. Introduction / Business Problem"
   ]
  },
  {
   "cell_type": "markdown",
   "metadata": {},
   "source": [
    "#### Background and Problem\n",
    "\n",
    "Each year about 1.25 million people die in road traffic accidents, and an additional 20-50 million are injured or disabled. If the locations of traffic accidents could be predicted, this could have a huge beneficial impact in potentially helping to reduce the number of accidents each year. For example, routing software could avoid the most dangerous areas - particularly in the context of the coming advent of driverless cars. It could also be useful in an insurance context, in order to predict risk, as well as for governments and local road authorities looking to create more efficient systems of road maintenance and improvements. The aim of this project is to predict where traffic accidents are likely to occur. Throughout this capstone project, multiple supervised machine learning algorithms will be explored. Then, conclusion will be made by selecting the machine learning model that provides the highest prediction accuracy.\n",
    "\n",
    "#### Audience\n",
    "\n",
    "The primary audiance of this study might include people who resides in Seattle, WA, and those that are interested in learning about collisions provided by SPD which are recorded by Traffic Records. The findings could also be used by Department of Transportation Traffic Management Division looking to open new methods of even a way of fostering and improving traffics within Seattle to improve safety. "
   ]
  },
  {
   "cell_type": "markdown",
   "metadata": {},
   "source": [
    "## 2. Data Description"
   ]
  },
  {
   "cell_type": "markdown",
   "metadata": {},
   "source": [
    "The data  includes all types of collisions. Collisions will display at the intersection or mid-block of a segment during timeframe: 2004 to Present.\n",
    "\n",
    "#### Methodology\n",
    "\n",
    "The methodology is divided into four parts:\n",
    "\n",
    "* **Data Preparation:** presents how the dataset is obtained as well as some key aspects of the data.\n",
    "\n",
    "* **Descriptive Statistics:** provides a brief overview of the statistics and graphs used in order to have a better understanding of the collision data. The descriptive analysis is shown in the result section.\n",
    "\n",
    "* **K-Means:** explains the parameters and how the optimal number of cluster was obtained.\n",
    "\n"
   ]
  },
  {
   "cell_type": "code",
   "execution_count": null,
   "metadata": {},
   "outputs": [],
   "source": []
  },
  {
   "cell_type": "code",
   "execution_count": null,
   "metadata": {},
   "outputs": [],
   "source": []
  }
 ],
 "metadata": {
  "kernelspec": {
   "display_name": "Python 3",
   "language": "python",
   "name": "python3"
  },
  "language_info": {
   "codemirror_mode": {
    "name": "ipython",
    "version": 3
   },
   "file_extension": ".py",
   "mimetype": "text/x-python",
   "name": "python",
   "nbconvert_exporter": "python",
   "pygments_lexer": "ipython3",
   "version": "3.8.3"
  }
 },
 "nbformat": 4,
 "nbformat_minor": 4
}
